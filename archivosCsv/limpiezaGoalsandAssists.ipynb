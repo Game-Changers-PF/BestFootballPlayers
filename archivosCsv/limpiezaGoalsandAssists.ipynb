{
 "cells": [
  {
   "cell_type": "code",
   "execution_count": 1,
   "metadata": {},
   "outputs": [],
   "source": [
    "import numpy as np\n",
    "import pandas as pd\n"
   ]
  },
  {
   "cell_type": "code",
   "execution_count": 2,
   "metadata": {},
   "outputs": [],
   "source": [
    "golesAndAssists = pd.read_csv('GoalsandAssists.csv', sep=',')"
   ]
  },
  {
   "cell_type": "code",
   "execution_count": 3,
   "metadata": {},
   "outputs": [
    {
     "name": "stdout",
     "output_type": "stream",
     "text": [
      "      Year                    Name            Position  Age        Club Name  \\\n",
      "0     1974             Gerd Müller      Centre-Forward   28    Bayern Munich   \n",
      "1     1974           Jupp Heynckes      Centre-Forward   29  Bor. M'gladbach   \n",
      "2     1974             Delio Onnis      Centre-Forward   26           Monaco   \n",
      "3     1974           Dieter Müller      Centre-Forward   20        1.FC Köln   \n",
      "4     1974           Willi Lippens         Left Winger   28         RW Essen   \n",
      "...    ...                     ...                 ...  ...              ...   \n",
      "2367  2023          James Maddison  Attacking Midfield   26        Tottenham   \n",
      "2368  2023            Moussa Diaby        Right Winger   24      Aston Villa   \n",
      "2369  2023  Jean-Ricner Bellegarde    Central Midfield   25           Wolves   \n",
      "2370  2023          Andrea Belotti      Centre-Forward   29          AS Roma   \n",
      "2371  2023         Tim Kleindienst      Centre-Forward   28       Heidenheim   \n",
      "\n",
      "         League Name  Matches Played  Goals  Assists  Points  \n",
      "0         Bundesliga              33     23       13      36  \n",
      "1         Bundesliga              31     27        4      31  \n",
      "2            Ligue 1              37     30        0      30  \n",
      "3         Bundesliga              34     24        4      28  \n",
      "4            3. Liga              34     15       11      26  \n",
      "...              ...             ...    ...      ...     ...  \n",
      "2367  Premier League               5      2        2       4  \n",
      "2368  Premier League               5      2        2       4  \n",
      "2369  Premier League               4      2        2       4  \n",
      "2370         Serie A               4      2        2       4  \n",
      "2371      Bundesliga               4      2        2       4  \n",
      "\n",
      "[2372 rows x 10 columns]\n"
     ]
    }
   ],
   "source": [
    "print(golesAndAssists)"
   ]
  },
  {
   "cell_type": "code",
   "execution_count": 4,
   "metadata": {},
   "outputs": [
    {
     "name": "stdout",
     "output_type": "stream",
     "text": [
      "Year               int64\n",
      "Name              object\n",
      "Position          object\n",
      "Age                int64\n",
      "Club Name         object\n",
      "League Name       object\n",
      "Matches Played     int64\n",
      "Goals              int64\n",
      "Assists            int64\n",
      "Points             int64\n",
      "dtype: object\n"
     ]
    }
   ],
   "source": [
    "#el tipo de dato que posee cada columna\n",
    "print(golesAndAssists.dtypes)"
   ]
  },
  {
   "cell_type": "code",
   "execution_count": 5,
   "metadata": {},
   "outputs": [
    {
     "data": {
      "text/html": [
       "<div>\n",
       "<style scoped>\n",
       "    .dataframe tbody tr th:only-of-type {\n",
       "        vertical-align: middle;\n",
       "    }\n",
       "\n",
       "    .dataframe tbody tr th {\n",
       "        vertical-align: top;\n",
       "    }\n",
       "\n",
       "    .dataframe thead th {\n",
       "        text-align: right;\n",
       "    }\n",
       "</style>\n",
       "<table border=\"1\" class=\"dataframe\">\n",
       "  <thead>\n",
       "    <tr style=\"text-align: right;\">\n",
       "      <th></th>\n",
       "      <th>Year</th>\n",
       "      <th>Name</th>\n",
       "      <th>Position</th>\n",
       "      <th>Age</th>\n",
       "      <th>Club Name</th>\n",
       "      <th>League Name</th>\n",
       "      <th>Matches Played</th>\n",
       "      <th>Goals</th>\n",
       "      <th>Assists</th>\n",
       "      <th>Points</th>\n",
       "    </tr>\n",
       "  </thead>\n",
       "  <tbody>\n",
       "    <tr>\n",
       "      <th>0</th>\n",
       "      <td>False</td>\n",
       "      <td>False</td>\n",
       "      <td>False</td>\n",
       "      <td>False</td>\n",
       "      <td>False</td>\n",
       "      <td>False</td>\n",
       "      <td>False</td>\n",
       "      <td>False</td>\n",
       "      <td>False</td>\n",
       "      <td>False</td>\n",
       "    </tr>\n",
       "    <tr>\n",
       "      <th>1</th>\n",
       "      <td>False</td>\n",
       "      <td>False</td>\n",
       "      <td>False</td>\n",
       "      <td>False</td>\n",
       "      <td>False</td>\n",
       "      <td>False</td>\n",
       "      <td>False</td>\n",
       "      <td>False</td>\n",
       "      <td>False</td>\n",
       "      <td>False</td>\n",
       "    </tr>\n",
       "    <tr>\n",
       "      <th>2</th>\n",
       "      <td>False</td>\n",
       "      <td>False</td>\n",
       "      <td>False</td>\n",
       "      <td>False</td>\n",
       "      <td>False</td>\n",
       "      <td>False</td>\n",
       "      <td>False</td>\n",
       "      <td>False</td>\n",
       "      <td>False</td>\n",
       "      <td>False</td>\n",
       "    </tr>\n",
       "    <tr>\n",
       "      <th>3</th>\n",
       "      <td>False</td>\n",
       "      <td>False</td>\n",
       "      <td>False</td>\n",
       "      <td>False</td>\n",
       "      <td>False</td>\n",
       "      <td>False</td>\n",
       "      <td>False</td>\n",
       "      <td>False</td>\n",
       "      <td>False</td>\n",
       "      <td>False</td>\n",
       "    </tr>\n",
       "    <tr>\n",
       "      <th>4</th>\n",
       "      <td>False</td>\n",
       "      <td>False</td>\n",
       "      <td>False</td>\n",
       "      <td>False</td>\n",
       "      <td>False</td>\n",
       "      <td>False</td>\n",
       "      <td>False</td>\n",
       "      <td>False</td>\n",
       "      <td>False</td>\n",
       "      <td>False</td>\n",
       "    </tr>\n",
       "    <tr>\n",
       "      <th>...</th>\n",
       "      <td>...</td>\n",
       "      <td>...</td>\n",
       "      <td>...</td>\n",
       "      <td>...</td>\n",
       "      <td>...</td>\n",
       "      <td>...</td>\n",
       "      <td>...</td>\n",
       "      <td>...</td>\n",
       "      <td>...</td>\n",
       "      <td>...</td>\n",
       "    </tr>\n",
       "    <tr>\n",
       "      <th>2367</th>\n",
       "      <td>False</td>\n",
       "      <td>False</td>\n",
       "      <td>False</td>\n",
       "      <td>False</td>\n",
       "      <td>False</td>\n",
       "      <td>False</td>\n",
       "      <td>False</td>\n",
       "      <td>False</td>\n",
       "      <td>False</td>\n",
       "      <td>False</td>\n",
       "    </tr>\n",
       "    <tr>\n",
       "      <th>2368</th>\n",
       "      <td>False</td>\n",
       "      <td>False</td>\n",
       "      <td>False</td>\n",
       "      <td>False</td>\n",
       "      <td>False</td>\n",
       "      <td>False</td>\n",
       "      <td>False</td>\n",
       "      <td>False</td>\n",
       "      <td>False</td>\n",
       "      <td>False</td>\n",
       "    </tr>\n",
       "    <tr>\n",
       "      <th>2369</th>\n",
       "      <td>False</td>\n",
       "      <td>False</td>\n",
       "      <td>False</td>\n",
       "      <td>False</td>\n",
       "      <td>False</td>\n",
       "      <td>False</td>\n",
       "      <td>False</td>\n",
       "      <td>False</td>\n",
       "      <td>False</td>\n",
       "      <td>False</td>\n",
       "    </tr>\n",
       "    <tr>\n",
       "      <th>2370</th>\n",
       "      <td>False</td>\n",
       "      <td>False</td>\n",
       "      <td>False</td>\n",
       "      <td>False</td>\n",
       "      <td>False</td>\n",
       "      <td>False</td>\n",
       "      <td>False</td>\n",
       "      <td>False</td>\n",
       "      <td>False</td>\n",
       "      <td>False</td>\n",
       "    </tr>\n",
       "    <tr>\n",
       "      <th>2371</th>\n",
       "      <td>False</td>\n",
       "      <td>False</td>\n",
       "      <td>False</td>\n",
       "      <td>False</td>\n",
       "      <td>False</td>\n",
       "      <td>False</td>\n",
       "      <td>False</td>\n",
       "      <td>False</td>\n",
       "      <td>False</td>\n",
       "      <td>False</td>\n",
       "    </tr>\n",
       "  </tbody>\n",
       "</table>\n",
       "<p>2372 rows × 10 columns</p>\n",
       "</div>"
      ],
      "text/plain": [
       "       Year   Name  Position    Age  Club Name  League Name  Matches Played  \\\n",
       "0     False  False     False  False      False        False           False   \n",
       "1     False  False     False  False      False        False           False   \n",
       "2     False  False     False  False      False        False           False   \n",
       "3     False  False     False  False      False        False           False   \n",
       "4     False  False     False  False      False        False           False   \n",
       "...     ...    ...       ...    ...        ...          ...             ...   \n",
       "2367  False  False     False  False      False        False           False   \n",
       "2368  False  False     False  False      False        False           False   \n",
       "2369  False  False     False  False      False        False           False   \n",
       "2370  False  False     False  False      False        False           False   \n",
       "2371  False  False     False  False      False        False           False   \n",
       "\n",
       "      Goals  Assists  Points  \n",
       "0     False    False   False  \n",
       "1     False    False   False  \n",
       "2     False    False   False  \n",
       "3     False    False   False  \n",
       "4     False    False   False  \n",
       "...     ...      ...     ...  \n",
       "2367  False    False   False  \n",
       "2368  False    False   False  \n",
       "2369  False    False   False  \n",
       "2370  False    False   False  \n",
       "2371  False    False   False  \n",
       "\n",
       "[2372 rows x 10 columns]"
      ]
     },
     "execution_count": 5,
     "metadata": {},
     "output_type": "execute_result"
    }
   ],
   "source": [
    "#consutlamos valores nulos individualmente en cada tabla\n",
    "golesAndAssists.isnull()"
   ]
  },
  {
   "cell_type": "code",
   "execution_count": 6,
   "metadata": {},
   "outputs": [
    {
     "data": {
      "text/plain": [
       "0"
      ]
     },
     "execution_count": 6,
     "metadata": {},
     "output_type": "execute_result"
    }
   ],
   "source": [
    "#verificamos cuantos valores nulos hay en la tabla\n",
    "golesAndAssists.isnull().sum().sum()\n"
   ]
  },
  {
   "cell_type": "code",
   "execution_count": 7,
   "metadata": {},
   "outputs": [
    {
     "name": "stdout",
     "output_type": "stream",
     "text": [
      "213\n"
     ]
    }
   ],
   "source": [
    "# 1. Cantidad de equipos únicos\n",
    "num_equipos = golesAndAssists['Club Name'].nunique()\n",
    "print(num_equipos)"
   ]
  },
  {
   "cell_type": "code",
   "execution_count": 8,
   "metadata": {},
   "outputs": [
    {
     "name": "stdout",
     "output_type": "stream",
     "text": [
      "38\n"
     ]
    }
   ],
   "source": [
    "# 2. Cantidad de ligas únicas\n",
    "num_ligas = golesAndAssists['League Name'].nunique()\n",
    "print(num_ligas)"
   ]
  },
  {
   "cell_type": "code",
   "execution_count": 9,
   "metadata": {},
   "outputs": [
    {
     "name": "stdout",
     "output_type": "stream",
     "text": [
      "['Bundesliga' 'Ligue 1' '3. Liga' '2. Bundesliga' 'Regionalliga Südwest'\n",
      " 'Serie A' 'Ligue 2' 'LaLiga' 'Championnat National' 'NOFV-Oberliga Nord'\n",
      " 'LaLiga2' 'France' 'Serie C - A' 'Oberliga Niederrhein' 'Serie C - B'\n",
      " 'National 3 - Grp. C' 'Serie B' 'National 2 - Grp. A'\n",
      " 'National 2 - Grp. C' 'Oberliga Westfalen' 'Serie C - C' 'Spain'\n",
      " 'Premier League' 'Primera Federación - Gr. I' 'Championship' 'League Two'\n",
      " 'Segunda Federación - Gr. I' 'League One' 'Serie D - B' 'Liga Portugal'\n",
      " 'Primera Federación - Gr. II' 'Regionalliga Nordost' 'Liga Sabseg'\n",
      " 'Italy' 'Portugal' 'Liga 3' 'Serie D - E' 'Serie D - I']\n"
     ]
    }
   ],
   "source": [
    "# 3. Nombres de las ligas\n",
    "nombres_ligas = golesAndAssists['League Name'].unique()\n",
    "print(nombres_ligas)"
   ]
  },
  {
   "cell_type": "code",
   "execution_count": 10,
   "metadata": {},
   "outputs": [
    {
     "name": "stdout",
     "output_type": "stream",
     "text": [
      "League Name\n",
      "Bundesliga                     480\n",
      "Serie A                        337\n",
      "LaLiga                         332\n",
      "Ligue 1                        317\n",
      "Premier League                 289\n",
      "2. Bundesliga                  142\n",
      "Ligue 2                        103\n",
      "Liga Portugal                   83\n",
      "Championship                    66\n",
      "Serie B                         41\n",
      "LaLiga2                         39\n",
      "Championnat National            36\n",
      "3. Liga                         28\n",
      "National 2 - Grp. A              9\n",
      "Primera Federación - Gr. I       9\n",
      "Liga Sabseg                      6\n",
      "Oberliga Niederrhein             5\n",
      "Regionalliga Südwest             5\n",
      "League One                       4\n",
      "Serie C - C                      4\n",
      "Regionalliga Nordost             3\n",
      "Serie D - E                      3\n",
      "Oberliga Westfalen               3\n",
      "National 3 - Grp. C              3\n",
      "France                           3\n",
      "National 2 - Grp. C              2\n",
      "League Two                       2\n",
      "Segunda Federación - Gr. I       2\n",
      "Serie D - B                      2\n",
      "Primera Federación - Gr. II      2\n",
      "Italy                            2\n",
      "Portugal                         2\n",
      "NOFV-Oberliga Nord               2\n",
      "Serie D - I                      2\n",
      "Spain                            1\n",
      "Serie C - B                      1\n",
      "Serie C - A                      1\n",
      "Liga 3                           1\n",
      "Name: count, dtype: int64\n"
     ]
    }
   ],
   "source": [
    "# 4. Cantidad de ligas y nombres de las ligas\n",
    "cantidad_y_nombres_ligas = golesAndAssists['League Name'].value_counts()\n",
    "print(cantidad_y_nombres_ligas)"
   ]
  },
  {
   "cell_type": "code",
   "execution_count": 11,
   "metadata": {},
   "outputs": [
    {
     "name": "stdout",
     "output_type": "stream",
     "text": [
      "Ligas que tienen 28 o más registros:\n",
      "Index(['2. Bundesliga', 'Bundesliga', 'Championship', 'LaLiga',\n",
      "       'Liga Portugal', 'Ligue 1', 'Ligue 2', 'Premier League', 'Serie A'],\n",
      "      dtype='object', name='League Name')\n",
      "      Year                    Name            Position  Age        Club Name  \\\n",
      "0     1974             Gerd Müller      Centre-Forward   28    Bayern Munich   \n",
      "1     1974           Jupp Heynckes      Centre-Forward   29  Bor. M'gladbach   \n",
      "2     1974             Delio Onnis      Centre-Forward   26           Monaco   \n",
      "3     1974           Dieter Müller      Centre-Forward   20        1.FC Köln   \n",
      "5     1974          Allan Simonsen      Second Striker   21  Bor. M'gladbach   \n",
      "...    ...                     ...                 ...  ...              ...   \n",
      "2367  2023          James Maddison  Attacking Midfield   26        Tottenham   \n",
      "2368  2023            Moussa Diaby        Right Winger   24      Aston Villa   \n",
      "2369  2023  Jean-Ricner Bellegarde    Central Midfield   25           Wolves   \n",
      "2370  2023          Andrea Belotti      Centre-Forward   29          AS Roma   \n",
      "2371  2023         Tim Kleindienst      Centre-Forward   28       Heidenheim   \n",
      "\n",
      "         League Name  Matches Played  Goals  Assists  Points  \n",
      "0         Bundesliga              33     23       13      36  \n",
      "1         Bundesliga              31     27        4      31  \n",
      "2            Ligue 1              37     30        0      30  \n",
      "3         Bundesliga              34     24        4      28  \n",
      "5         Bundesliga              34     18        4      22  \n",
      "...              ...             ...    ...      ...     ...  \n",
      "2367  Premier League               5      2        2       4  \n",
      "2368  Premier League               5      2        2       4  \n",
      "2369  Premier League               4      2        2       4  \n",
      "2370         Serie A               4      2        2       4  \n",
      "2371      Bundesliga               4      2        2       4  \n",
      "\n",
      "[2149 rows x 10 columns]\n"
     ]
    }
   ],
   "source": [
    "# Suponiendo que tu DataFrame se llama 'df'\n",
    "# Agrupar por 'Liga' y contar cuántos registros tiene cada 'club_name'\n",
    "ligas_conteo = golesAndAssists.groupby('League Name')['Club Name'].count()\n",
    "\n",
    "# Filtrar las ligas que tienen 28 o más registros\n",
    "ligas_filtradas = ligas_conteo[ligas_conteo > 41].index\n",
    "\n",
    "# Filtrar el DataFrame original para conservar solo las ligas relevantes\n",
    "golesAndAssist_filtrado = golesAndAssists[golesAndAssists['League Name'].isin(ligas_filtradas)]\n",
    "\n",
    "# Mostrar las ligas que se conservaron\n",
    "print(f\"Ligas que tienen 28 o más registros:\\n{ligas_filtradas}\")\n",
    "\n",
    "# Mostrar el DataFrame filtrado\n",
    "print(golesAndAssist_filtrado)"
   ]
  },
  {
   "cell_type": "code",
   "execution_count": 12,
   "metadata": {},
   "outputs": [
    {
     "data": {
      "text/plain": [
       "9"
      ]
     },
     "execution_count": 12,
     "metadata": {},
     "output_type": "execute_result"
    }
   ],
   "source": [
    "#verificamos valores unicos de equipos\n",
    "golesAndAssist_filtrado['League Name'].nunique()"
   ]
  },
  {
   "cell_type": "code",
   "execution_count": 13,
   "metadata": {},
   "outputs": [
    {
     "data": {
      "text/plain": [
       "141"
      ]
     },
     "execution_count": 13,
     "metadata": {},
     "output_type": "execute_result"
    }
   ],
   "source": [
    "#verificamos cantidad de clubes que quedaron\n",
    "golesAndAssist_filtrado['Club Name'].nunique()"
   ]
  },
  {
   "cell_type": "markdown",
   "metadata": {},
   "source": [
    "Luego de realizar el proceso de ETL, se analiza el dataset y se propone enriquecer la data con nuevas columnas."
   ]
  },
  {
   "cell_type": "code",
   "execution_count": 16,
   "metadata": {},
   "outputs": [
    {
     "name": "stderr",
     "output_type": "stream",
     "text": [
      "C:\\Users\\valen\\AppData\\Local\\Temp\\ipykernel_13536\\3639874512.py:2: SettingWithCopyWarning: \n",
      "A value is trying to be set on a copy of a slice from a DataFrame.\n",
      "Try using .loc[row_indexer,col_indexer] = value instead\n",
      "\n",
      "See the caveats in the documentation: https://pandas.pydata.org/pandas-docs/stable/user_guide/indexing.html#returning-a-view-versus-a-copy\n",
      "  golesAndAssist_filtrado['Goals_Per_Match'] = golesAndAssist_filtrado['Goals'] / golesAndAssist_filtrado['Matches Played']\n"
     ]
    }
   ],
   "source": [
    "#Agregar columna Promedio de goles \n",
    "golesAndAssist_filtrado['Goals_Per_Match'] = golesAndAssist_filtrado['Goals'] / golesAndAssist_filtrado['Matches Played']\n"
   ]
  },
  {
   "cell_type": "code",
   "execution_count": 18,
   "metadata": {},
   "outputs": [
    {
     "name": "stderr",
     "output_type": "stream",
     "text": [
      "C:\\Users\\valen\\AppData\\Local\\Temp\\ipykernel_13536\\1384867516.py:2: SettingWithCopyWarning: \n",
      "A value is trying to be set on a copy of a slice from a DataFrame.\n",
      "Try using .loc[row_indexer,col_indexer] = value instead\n",
      "\n",
      "See the caveats in the documentation: https://pandas.pydata.org/pandas-docs/stable/user_guide/indexing.html#returning-a-view-versus-a-copy\n",
      "  golesAndAssist_filtrado['Goals_Per_Match'] = golesAndAssist_filtrado['Goals_Per_Match'].round(2)\n"
     ]
    }
   ],
   "source": [
    "#Se confirma que tienen valores decimales altos, por lo cual se redondea a dos\n",
    "golesAndAssist_filtrado['Goals_Per_Match'] = golesAndAssist_filtrado['Goals_Per_Match'].round(2)"
   ]
  },
  {
   "cell_type": "code",
   "execution_count": 19,
   "metadata": {},
   "outputs": [
    {
     "data": {
      "text/html": [
       "<div>\n",
       "<style scoped>\n",
       "    .dataframe tbody tr th:only-of-type {\n",
       "        vertical-align: middle;\n",
       "    }\n",
       "\n",
       "    .dataframe tbody tr th {\n",
       "        vertical-align: top;\n",
       "    }\n",
       "\n",
       "    .dataframe thead th {\n",
       "        text-align: right;\n",
       "    }\n",
       "</style>\n",
       "<table border=\"1\" class=\"dataframe\">\n",
       "  <thead>\n",
       "    <tr style=\"text-align: right;\">\n",
       "      <th></th>\n",
       "      <th>Year</th>\n",
       "      <th>Name</th>\n",
       "      <th>Position</th>\n",
       "      <th>Age</th>\n",
       "      <th>Club Name</th>\n",
       "      <th>League Name</th>\n",
       "      <th>Matches Played</th>\n",
       "      <th>Goals</th>\n",
       "      <th>Assists</th>\n",
       "      <th>Points</th>\n",
       "      <th>Goals_Per_Match</th>\n",
       "    </tr>\n",
       "  </thead>\n",
       "  <tbody>\n",
       "    <tr>\n",
       "      <th>0</th>\n",
       "      <td>1974</td>\n",
       "      <td>Gerd Müller</td>\n",
       "      <td>Centre-Forward</td>\n",
       "      <td>28</td>\n",
       "      <td>Bayern Munich</td>\n",
       "      <td>Bundesliga</td>\n",
       "      <td>33</td>\n",
       "      <td>23</td>\n",
       "      <td>13</td>\n",
       "      <td>36</td>\n",
       "      <td>0.70</td>\n",
       "    </tr>\n",
       "    <tr>\n",
       "      <th>1</th>\n",
       "      <td>1974</td>\n",
       "      <td>Jupp Heynckes</td>\n",
       "      <td>Centre-Forward</td>\n",
       "      <td>29</td>\n",
       "      <td>Bor. M'gladbach</td>\n",
       "      <td>Bundesliga</td>\n",
       "      <td>31</td>\n",
       "      <td>27</td>\n",
       "      <td>4</td>\n",
       "      <td>31</td>\n",
       "      <td>0.87</td>\n",
       "    </tr>\n",
       "    <tr>\n",
       "      <th>2</th>\n",
       "      <td>1974</td>\n",
       "      <td>Delio Onnis</td>\n",
       "      <td>Centre-Forward</td>\n",
       "      <td>26</td>\n",
       "      <td>Monaco</td>\n",
       "      <td>Ligue 1</td>\n",
       "      <td>37</td>\n",
       "      <td>30</td>\n",
       "      <td>0</td>\n",
       "      <td>30</td>\n",
       "      <td>0.81</td>\n",
       "    </tr>\n",
       "    <tr>\n",
       "      <th>3</th>\n",
       "      <td>1974</td>\n",
       "      <td>Dieter Müller</td>\n",
       "      <td>Centre-Forward</td>\n",
       "      <td>20</td>\n",
       "      <td>1.FC Köln</td>\n",
       "      <td>Bundesliga</td>\n",
       "      <td>34</td>\n",
       "      <td>24</td>\n",
       "      <td>4</td>\n",
       "      <td>28</td>\n",
       "      <td>0.71</td>\n",
       "    </tr>\n",
       "    <tr>\n",
       "      <th>5</th>\n",
       "      <td>1974</td>\n",
       "      <td>Allan Simonsen</td>\n",
       "      <td>Second Striker</td>\n",
       "      <td>21</td>\n",
       "      <td>Bor. M'gladbach</td>\n",
       "      <td>Bundesliga</td>\n",
       "      <td>34</td>\n",
       "      <td>18</td>\n",
       "      <td>4</td>\n",
       "      <td>22</td>\n",
       "      <td>0.53</td>\n",
       "    </tr>\n",
       "    <tr>\n",
       "      <th>6</th>\n",
       "      <td>1974</td>\n",
       "      <td>François M'Pelé</td>\n",
       "      <td>Centre-Forward</td>\n",
       "      <td>26</td>\n",
       "      <td>Paris SG</td>\n",
       "      <td>Ligue 1</td>\n",
       "      <td>37</td>\n",
       "      <td>21</td>\n",
       "      <td>0</td>\n",
       "      <td>21</td>\n",
       "      <td>0.57</td>\n",
       "    </tr>\n",
       "    <tr>\n",
       "      <th>7</th>\n",
       "      <td>1974</td>\n",
       "      <td>Roland Sandberg</td>\n",
       "      <td>Centre-Forward</td>\n",
       "      <td>27</td>\n",
       "      <td>1.FC K'lautern</td>\n",
       "      <td>2. Bundesliga</td>\n",
       "      <td>34</td>\n",
       "      <td>20</td>\n",
       "      <td>1</td>\n",
       "      <td>21</td>\n",
       "      <td>0.59</td>\n",
       "    </tr>\n",
       "    <tr>\n",
       "      <th>9</th>\n",
       "      <td>1974</td>\n",
       "      <td>Jürgen Grabowski</td>\n",
       "      <td>Right Winger</td>\n",
       "      <td>29</td>\n",
       "      <td>E. Frankfurt</td>\n",
       "      <td>Bundesliga</td>\n",
       "      <td>33</td>\n",
       "      <td>13</td>\n",
       "      <td>8</td>\n",
       "      <td>21</td>\n",
       "      <td>0.39</td>\n",
       "    </tr>\n",
       "    <tr>\n",
       "      <th>11</th>\n",
       "      <td>1974</td>\n",
       "      <td>Bernd Hölzenbein</td>\n",
       "      <td>Attacking Midfield</td>\n",
       "      <td>28</td>\n",
       "      <td>E. Frankfurt</td>\n",
       "      <td>Bundesliga</td>\n",
       "      <td>33</td>\n",
       "      <td>16</td>\n",
       "      <td>4</td>\n",
       "      <td>20</td>\n",
       "      <td>0.48</td>\n",
       "    </tr>\n",
       "    <tr>\n",
       "      <th>12</th>\n",
       "      <td>1974</td>\n",
       "      <td>Bernd Gersdorff</td>\n",
       "      <td>Attacking Midfield</td>\n",
       "      <td>27</td>\n",
       "      <td>E. Braunschweig</td>\n",
       "      <td>2. Bundesliga</td>\n",
       "      <td>34</td>\n",
       "      <td>15</td>\n",
       "      <td>5</td>\n",
       "      <td>20</td>\n",
       "      <td>0.44</td>\n",
       "    </tr>\n",
       "  </tbody>\n",
       "</table>\n",
       "</div>"
      ],
      "text/plain": [
       "    Year              Name            Position  Age        Club Name  \\\n",
       "0   1974       Gerd Müller      Centre-Forward   28    Bayern Munich   \n",
       "1   1974     Jupp Heynckes      Centre-Forward   29  Bor. M'gladbach   \n",
       "2   1974       Delio Onnis      Centre-Forward   26           Monaco   \n",
       "3   1974     Dieter Müller      Centre-Forward   20        1.FC Köln   \n",
       "5   1974    Allan Simonsen      Second Striker   21  Bor. M'gladbach   \n",
       "6   1974   François M'Pelé      Centre-Forward   26         Paris SG   \n",
       "7   1974   Roland Sandberg      Centre-Forward   27   1.FC K'lautern   \n",
       "9   1974  Jürgen Grabowski        Right Winger   29     E. Frankfurt   \n",
       "11  1974  Bernd Hölzenbein  Attacking Midfield   28     E. Frankfurt   \n",
       "12  1974   Bernd Gersdorff  Attacking Midfield   27  E. Braunschweig   \n",
       "\n",
       "      League Name  Matches Played  Goals  Assists  Points  Goals_Per_Match  \n",
       "0      Bundesliga              33     23       13      36             0.70  \n",
       "1      Bundesliga              31     27        4      31             0.87  \n",
       "2         Ligue 1              37     30        0      30             0.81  \n",
       "3      Bundesliga              34     24        4      28             0.71  \n",
       "5      Bundesliga              34     18        4      22             0.53  \n",
       "6         Ligue 1              37     21        0      21             0.57  \n",
       "7   2. Bundesliga              34     20        1      21             0.59  \n",
       "9      Bundesliga              33     13        8      21             0.39  \n",
       "11     Bundesliga              33     16        4      20             0.48  \n",
       "12  2. Bundesliga              34     15        5      20             0.44  "
      ]
     },
     "execution_count": 19,
     "metadata": {},
     "output_type": "execute_result"
    }
   ],
   "source": [
    "golesAndAssist_filtrado.head(10)"
   ]
  }
 ],
 "metadata": {
  "kernelspec": {
   "display_name": "Python 3",
   "language": "python",
   "name": "python3"
  },
  "language_info": {
   "codemirror_mode": {
    "name": "ipython",
    "version": 3
   },
   "file_extension": ".py",
   "mimetype": "text/x-python",
   "name": "python",
   "nbconvert_exporter": "python",
   "pygments_lexer": "ipython3",
   "version": "3.12.4"
  }
 },
 "nbformat": 4,
 "nbformat_minor": 2
}
